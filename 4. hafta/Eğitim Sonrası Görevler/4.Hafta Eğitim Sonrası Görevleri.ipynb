{
 "cells": [
  {
   "cell_type": "markdown",
   "metadata": {},
   "source": [
    "# Problem 1\n",
    "`ogrenciler` adında bir sözlük oluşturunuz. Kullanıcıdan döngü yardımıyla 3 öğrenci için veri girmesini isteyerek öğrencilerin sırasıyla okul numarası, isim, soy isim, telefon numarası ve doğum tarihi bilgilerini alınız. Aldığınız öğrenci bilgilerini yine aynı döngü yardımıyla `ogrenciler` adındaki sözlükte saklayınız. Daha sonra öğrenci bilgilerinin bulunduğu sözlük yapısını ekrana bastırınız.\n",
    "\n"
   ]
  },
  {
   "cell_type": "code",
   "execution_count": 2,
   "metadata": {},
   "outputs": [
    {
     "name": "stdout",
     "output_type": "stream",
     "text": [
      "{'zeynep': '273627, 372874822, 2005', 'dilek': '384738, 923472772, 2005', 'eylül': '384637, 387439939, 2005'}\n"
     ]
    }
   ],
   "source": [
    "ogrenciler = {}\n",
    "top = 0\n",
    "while top < 3:\n",
    "    ogrencisim = input(\"Öğrenci ismini ve soyismini giriniz: \")\n",
    "    ogrencibilgi = input(\"Öğrencinin okul numarasını, telefon numarasını ve doğum tarihini giriniz: \")\n",
    "    ogrenciler[ogrencisim] = ogrencibilgi\n",
    "    top += 1\n",
    "print(ogrenciler)\n",
    "\n",
    "\n"
   ]
  },
  {
   "cell_type": "markdown",
   "metadata": {},
   "source": [
    "# Problem 2\n",
    "\n",
    "### a - Biraz ısınarak başlayalım!\n",
    "\n",
    "```\n",
    "numbers = [5,10,10,15,15,15,20,20,20,20]\n",
    "```\n",
    "\n",
    "Yukarıda `numbers` adında 10 elemanlı bir liste verilmiştir. Bu listenin her elemanını kontrol eden ve tekrar eden elemanları bir kez olacak şekilde başka bir listeye kopyalayan bir program yazınız. Son olarak oluşturduğunuz listeyi ekrana bastırınız.\n",
    "\n",
    "\n",
    "\n",
    "\n",
    "```\n",
    ">Output\n",
    "[5, 10, 15, 20]\n",
    "```\n"
   ]
  },
  {
   "cell_type": "code",
   "execution_count": 1,
   "metadata": {},
   "outputs": [
    {
     "name": "stdout",
     "output_type": "stream",
     "text": [
      "[5, 10, 15, 20]\n"
     ]
    }
   ],
   "source": [
    "numbers = [5,10,10,15,15,15, 20, 20, 20, 20]\n",
    "list =[]\n",
    "for i in numbers:\n",
    "    if(i not in list):\n",
    "        list.append(i)\n",
    "        \n",
    "print(list)\n"
   ]
  },
  {
   "cell_type": "markdown",
   "metadata": {},
   "source": [
    "### 🌶️ b) Hadi işi biraz daha zorlaştıralım! \n",
    "\n",
    "\n",
    "Şimdiyse senden `numbers` isimli listedeki tekrar eden elemanları `repeatNumbers` adındaki listeye; tekrar etmeyen elemanları `uniqueNumbers`adındaki listeye kopyalayan yazmanı ve listeleri ekrana bastırmanı bekliyoruz\n",
    "\n",
    "```\n",
    ">Output\n",
    "Tekrar Eden Elemanlar: [10, 10, 15, 15, 15, 20, 20, 20, 20]\n",
    "Tekrar Etmeyen Elemanlar: [5]\n",
    "```"
   ]
  },
  {
   "cell_type": "code",
   "execution_count": 2,
   "metadata": {},
   "outputs": [
    {
     "name": "stdout",
     "output_type": "stream",
     "text": [
      "Tekrar eden elemanlar: [10, 15, 20]\n",
      "Tekrar etmeyen elemanlar: [5]\n"
     ]
    }
   ],
   "source": [
    "repeatNumbers = []\n",
    "uniqueNumbers = []\n",
    "for i in numbers:\n",
    "    if(numbers.count(i) > 1 and i not in repeatNumbers):\n",
    "        repeatNumbers.append(i)\n",
    "    elif(numbers.count(i) == 1 and i not in uniqueNumbers):\n",
    "        uniqueNumbers.append(i)\n",
    "print(f\"Tekrar eden elemanlar: {repeatNumbers}\")\n",
    "print(f\"Tekrar etmeyen elemanlar: {uniqueNumbers}\")\n"
   ]
  },
  {
   "cell_type": "markdown",
   "metadata": {},
   "source": [
    "# Problem 3\n",
    "sn1 = {1,2,3,4,5}\n",
    "\n",
    "sn2 = {4,5,6,7,8}\n",
    "\n",
    " Verilen 2 adet küme için kesişimlerini, farklarını ve birleşimlerini bulunuz. "
   ]
  },
  {
   "cell_type": "code",
   "execution_count": 3,
   "metadata": {},
   "outputs": [
    {
     "name": "stdout",
     "output_type": "stream",
     "text": [
      "Kesişimleri: {4, 5}\n",
      "Farkları: {1, 2, 3}\n",
      "Birleşim: {1, 2, 3, 4, 5, 6, 7, 8}\n"
     ]
    }
   ],
   "source": [
    "sn1 = {1,2,3,4,5}\n",
    "sn2 = {4,5,6,7,8}\n",
    "kesisim = sn1.intersection(sn2)\n",
    "print(f\"Kesişimleri: {kesisim}\")\n",
    "fark = sn1.difference(sn2)\n",
    "print(f\"Farkları: {fark}\")\n",
    "birlesim = sn1.union(sn2)\n",
    "print(f\"Birleşim: {birlesim}\")"
   ]
  },
  {
   "cell_type": "markdown",
   "metadata": {},
   "source": [
    "# Problem 4\n",
    "\n",
    "Buradaki işlemlerimizin tamamı stringler içindir. Aşağıda verilecek olan metodlar için kendinizin örnek yaratması gerekmektedir. \n",
    "\n",
    "Örneğin `upper` için `string` değişkeni oluştururken` k = \"BAC\"` şeklinde oluşturmayınız. Bunun yerine k değişkenini `k = \"bac`\" şeklinde oluşturmanız `upper` metodundaki değişimi görebilmeniz için daha iyi olacaktır.\n",
    "\n",
    "Bütün metodlardaki değişimin gözle görülür şekilde değişimi beklenmektedir.\n",
    "\n",
    "\n",
    "1- capitalize(), lower(), upper(), swapcase(), title(), replace()\n",
    "\n",
    "2- endswith(), startswith(), find(), index(), count()\n",
    "\n",
    "3- split(), strip(), join(), islower(), isalpha(), isdigit()\n",
    "\n",
    "\n",
    "Yukarıdaki `string` metodlarındaki değişimleri görebildiğimiz bir program yazınız.\n"
   ]
  },
  {
   "cell_type": "code",
   "execution_count": 22,
   "metadata": {},
   "outputs": [
    {
     "name": "stdout",
     "output_type": "stream",
     "text": [
      "Capitalize: Kardanadam\n",
      "Lower: kardanadam\n",
      "Upper: KARDANADAM\n",
      "Swapcase: KARDANadam\n",
      "Title: Kardanadam\n",
      "Replace: kerdenADAM\n",
      "kardanADAM M ile mi biter: True\n",
      "kardanAdam A ile mi başlar: False\n",
      "kardanADAM stringinde n harfinin indexi: 5\n",
      "kardanADAM stringinin içinde kaç tane a var: 2\n",
      "Stringi ayır: ['Zeynep', 'Gökçe', '25', 'Öğrenci']\n",
      "Bütün karakterler alfabetik mi: False\n",
      "Bütün karakterler rakam mı: False\n",
      "Baştaki ve sondaki boşlukları sil: Zeynep Gökçe\n",
      "Sayıların arasına - koy: 1-2-3-4-5-6-7-8-9\n"
     ]
    }
   ],
   "source": [
    "x = \"kardanADAM\"\n",
    "print(f\"Capitalize: {x.capitalize()}\")\n",
    "print(f\"Lower: {x.lower()}\")\n",
    "print(f\"Upper: {x.upper()}\")\n",
    "print(f\"Swapcase: {x.swapcase()}\")\n",
    "print(f\"Title: {x.title()}\")\n",
    "print(f\"Replace: {x.replace(\"a\", \"e\")}\")\n",
    "\n",
    "print(f\"kardanADAM M ile mi biter: {x.endswith(\"M\")}\")\n",
    "print(f\"kardanAdam A ile mi başlar: {x.startswith(\"A\")}\")\n",
    "print(f\"kardanADAM stringinde n harfinin indexi: {x.index(\"n\")}\")\n",
    "print(f\"kardanADAM stringinin içinde kaç tane a var: {x.count(\"a\")}\")\n",
    "\n",
    "y = \"Zeynep Gökçe 25 Öğrenci\"\n",
    "print(f\"Stringi ayır: {y.split(\" \")}\")\n",
    "print(f\"Bütün karakterler alfabetik mi: {y.isalpha()}\")\n",
    "print(f\"Bütün karakterler rakam mı: {y.isdigit()}\")\n",
    "z = \"   Zeynep Gökçe  \"\n",
    "print(f\"Baştaki ve sondaki boşlukları sil: {z.strip()}\")\n",
    "\n",
    "t = \"123456789\"\n",
    "print(f\"Sayıların arasına - koy: {\"-\".join(t)}\")\n",
    "\n",
    "\n",
    "\n"
   ]
  }
 ],
 "metadata": {
  "kernelspec": {
   "display_name": "Python 3.10.5 64-bit",
   "language": "python",
   "name": "python3"
  },
  "language_info": {
   "codemirror_mode": {
    "name": "ipython",
    "version": 3
   },
   "file_extension": ".py",
   "mimetype": "text/x-python",
   "name": "python",
   "nbconvert_exporter": "python",
   "pygments_lexer": "ipython3",
   "version": "3.12.3"
  },
  "orig_nbformat": 4,
  "vscode": {
   "interpreter": {
    "hash": "5026d2d6e7aaaaba093def813beadff083d8733e4a511af01735cbabd156995d"
   }
  }
 },
 "nbformat": 4,
 "nbformat_minor": 2
}
